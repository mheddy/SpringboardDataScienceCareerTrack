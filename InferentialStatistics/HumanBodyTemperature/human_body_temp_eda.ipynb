{
 "cells": [
  {
   "cell_type": "markdown",
   "metadata": {},
   "source": [
    "# What is the True Normal Human Body Temperature?"
   ]
  },
  {
   "cell_type": "markdown",
   "metadata": {},
   "source": [
    "## Background\n",
    "\n",
    "The mean normal body temperature was held to be 37$^{\\circ}$C or 98.6$^{\\circ}$F for more than 120 years since it was first conceptualized and reported by Carl Wunderlich in a famous 1868 book. But, is this value statistically correct?\n",
    "\n"
   ]
  },
  {
   "cell_type": "markdown",
   "metadata": {},
   "source": [
    "# Exercises\n",
    "\n",
    "In this exercise, you will analyze a dataset of human body temperatures and employ the concepts of hypothesis testing, confidence intervals, and statistical significance.\n",
    "\n",
    "Answer the following questions **in this notebook below and submit to your Github account**.\n",
    "\n",
    "1. Is the distribution of body temperatures normal? \n",
    "    * Although this is not a requirement for CLT to hold (read CLT carefully), it gives us some peace of mind that the population may also be normally distributed if we assume that this sample is representative of the population.\n",
    "\n",
    "2. Is the sample size large? Are the observations independent? \n",
    "    * Remember that this is a condition for the CLT, and hence the statistical tests we are using, to apply. \n",
    "\n",
    "3. Is the true population mean really 98.6 degrees F? \n",
    "    * Would you use a one-sample or two-sample test? Why? \n",
    "    * In this situation, is it appropriate to use the t or z statistic? \n",
    "    * Now try using the other test. How is the result be different? Why?\n",
    "\n",
    "4. Draw a small sample of size 10 from the data and repeat both tests. \n",
    "    * Which one is the correct one to use? \n",
    "    * What do you notice? What does this tell you about the difference in application of the t and z statistic? \n",
    "\n",
    "5. At what temperature should we consider someone's temperature to be \"abnormal\"? \n",
    "    * Start by computing the margin of error and confidence interval. \n",
    "\n",
    "6. Is there a significant difference between males and females in normal temperature? \n",
    "    * What test did you use and why? \n",
    "    * Write a story with your conclusion in the context of the original problem. \n",
    "\n",
    "\n",
    "You can include written notes in notebook cells using Markdown: \n",
    "* In the control panel at the top, choose Cell > Cell Type > Markdown\n",
    "* Markdown syntax: http://nestacms.com/docs/creating-content/markdown-cheat-sheet\n",
    "\n",
    "## Resources\n",
    "\n",
    "* Information and data sources: http://www.amstat.org/publications/jse/datasets/normtemp.txt, http://www.amstat.org/publications/jse/jse_data_archive.htm\n",
    "* Markdown syntax: http://nestacms.com/docs/creating-content/markdown-cheat-sheet\n"
   ]
  },
  {
   "cell_type": "code",
   "execution_count": 44,
   "metadata": {
    "collapsed": true
   },
   "outputs": [],
   "source": [
    "import pandas as pd\n",
    "df = pd.read_csv('human_body_temperature.csv')"
   ]
  },
  {
   "cell_type": "code",
   "execution_count": 45,
   "metadata": {},
   "outputs": [
    {
     "data": {
      "text/html": [
       "<div>\n",
       "<style>\n",
       "    .dataframe thead tr:only-child th {\n",
       "        text-align: right;\n",
       "    }\n",
       "\n",
       "    .dataframe thead th {\n",
       "        text-align: left;\n",
       "    }\n",
       "\n",
       "    .dataframe tbody tr th {\n",
       "        vertical-align: top;\n",
       "    }\n",
       "</style>\n",
       "<table border=\"1\" class=\"dataframe\">\n",
       "  <thead>\n",
       "    <tr style=\"text-align: right;\">\n",
       "      <th></th>\n",
       "      <th>temperature</th>\n",
       "      <th>gender</th>\n",
       "      <th>heart_rate</th>\n",
       "    </tr>\n",
       "  </thead>\n",
       "  <tbody>\n",
       "    <tr>\n",
       "      <th>0</th>\n",
       "      <td>99.3</td>\n",
       "      <td>F</td>\n",
       "      <td>68.0</td>\n",
       "    </tr>\n",
       "    <tr>\n",
       "      <th>1</th>\n",
       "      <td>98.4</td>\n",
       "      <td>F</td>\n",
       "      <td>81.0</td>\n",
       "    </tr>\n",
       "    <tr>\n",
       "      <th>2</th>\n",
       "      <td>97.8</td>\n",
       "      <td>M</td>\n",
       "      <td>73.0</td>\n",
       "    </tr>\n",
       "    <tr>\n",
       "      <th>3</th>\n",
       "      <td>99.2</td>\n",
       "      <td>F</td>\n",
       "      <td>66.0</td>\n",
       "    </tr>\n",
       "    <tr>\n",
       "      <th>4</th>\n",
       "      <td>98.0</td>\n",
       "      <td>F</td>\n",
       "      <td>73.0</td>\n",
       "    </tr>\n",
       "  </tbody>\n",
       "</table>\n",
       "</div>"
      ],
      "text/plain": [
       "   temperature gender  heart_rate\n",
       "0         99.3      F        68.0\n",
       "1         98.4      F        81.0\n",
       "2         97.8      M        73.0\n",
       "3         99.2      F        66.0\n",
       "4         98.0      F        73.0"
      ]
     },
     "execution_count": 45,
     "metadata": {},
     "output_type": "execute_result"
    }
   ],
   "source": [
    "# Your work here\n",
    "df.head()"
   ]
  },
  {
   "cell_type": "code",
   "execution_count": 4,
   "metadata": {},
   "outputs": [
    {
     "data": {
      "text/plain": [
       "130"
      ]
     },
     "execution_count": 4,
     "metadata": {},
     "output_type": "execute_result"
    }
   ],
   "source": [
    "len(df)"
   ]
  },
  {
   "cell_type": "code",
   "execution_count": 5,
   "metadata": {
    "collapsed": true
   },
   "outputs": [],
   "source": [
    "import numpy as np\n",
    "import matplotlib.pyplot as plt\n",
    "import seaborn as sns\n",
    "import math\n",
    "import pandas as pd\n",
    "import scipy"
   ]
  },
  {
   "cell_type": "markdown",
   "metadata": {},
   "source": [
    "## 1. Is the distribution of body temperatures normal?"
   ]
  },
  {
   "cell_type": "code",
   "execution_count": 6,
   "metadata": {
    "scrolled": true
   },
   "outputs": [
    {
     "data": {
      "image/png": "[encoded data removed]",
      "text/plain": [
       "<matplotlib.figure.Figure at 0x25106320978>"
      ]
     },
     "metadata": {},
     "output_type": "display_data"
    }
   ],
   "source": [
    "# distribution of temperature\n",
    "plt.hist(df.temperature, bins=25)\n",
    "plt.xlabel('Body temperature')\n",
    "plt.ylabel('Count')\n",
    "plt.show()"
   ]
  },
  {
   "cell_type": "code",
   "execution_count": 7,
   "metadata": {},
   "outputs": [
    {
     "name": "stdout",
     "output_type": "stream",
     "text": [
      "(0.9865769743919373, 0.2331680953502655)\n",
      "The Shapiro Wilks test (p-value of 0.233) does not reject the NULL Hypothesis that the data is normally distributed\n"
     ]
    }
   ],
   "source": [
    "shapiro_results = scipy.stats.shapiro(df.temperature)\n",
    "print(shapiro_results)\n",
    "print('The Shapiro Wilks test (p-value of 0.233) does not reject the NULL Hypothesis that the data is normally distributed')"
   ]
  },
  {
   "cell_type": "code",
   "execution_count": 8,
   "metadata": {},
   "outputs": [
    {
     "name": "stdout",
     "output_type": "stream",
     "text": [
      "AndersonResult(statistic=0.52010388267143526, critical_values=array([ 0.56 ,  0.637,  0.765,  0.892,  1.061]), significance_level=array([ 15. ,  10. ,   5. ,   2.5,   1. ]))\n",
      "The Anderson-Darling test (p-value > 0.15) does not reject the NULL Hypothesis that the data is normally distributed\n"
     ]
    }
   ],
   "source": [
    "anderson_results = scipy.stats.anderson(df.temperature)\n",
    "print(anderson_results)\n",
    "print('The Anderson-Darling test (p-value > 0.15) does not reject the NULL Hypothesis that the data is normally distributed')"
   ]
  },
  {
   "cell_type": "code",
   "execution_count": 9,
   "metadata": {
    "scrolled": true
   },
   "outputs": [
    {
     "name": "stdout",
     "output_type": "stream",
     "text": [
      "NormaltestResult(statistic=2.7038014333192031, pvalue=0.2587479863488254)\n",
      "The DAgostino Pearson test (p-value of 0.2597) does not reject the NULL Hypothesis that the data is normally distributed\n"
     ]
    }
   ],
   "source": [
    "dagostino_results = scipy.stats.mstats.normaltest(df.temperature)\n",
    "print(dagostino_results)\n",
    "print('The DAgostino Pearson test (p-value of 0.2597) does not reject the NULL Hypothesis that the data is normally distributed')"
   ]
  },
  {
   "cell_type": "code",
   "execution_count": 10,
   "metadata": {},
   "outputs": [
    {
     "data": {
      "image/png": "[encoded data removed]",
      "text/plain": [
       "<matplotlib.figure.Figure at 0x2510639a240>"
      ]
     },
     "metadata": {},
     "output_type": "display_data"
    }
   ],
   "source": [
    "# distribution of temperature\n",
    "sns.kdeplot(df.temperature, shade=True)\n",
    "plt.xlabel('Body temperature')\n",
    "plt.show()"
   ]
  },
  {
   "cell_type": "markdown",
   "metadata": {},
   "source": [
    "## The above plot is a kernel density estimate plot of the body temperature data distribution\n",
    "\n",
    "## From the Above, the body temperature data appears to be normally distributed"
   ]
  },
  {
   "cell_type": "markdown",
   "metadata": {},
   "source": [
    "## 2. Is the sample size large? Are the observations independent? "
   ]
  },
  {
   "cell_type": "code",
   "execution_count": 11,
   "metadata": {},
   "outputs": [
    {
     "data": {
      "text/plain": [
       "130"
      ]
     },
     "execution_count": 11,
     "metadata": {},
     "output_type": "execute_result"
    }
   ],
   "source": [
    "# Total sample size\n",
    "n = len(df)\n",
    "n"
   ]
  },
  {
   "cell_type": "markdown",
   "metadata": {},
   "source": [
    "## The sample size is large enough that a z test can be used ( 130 > 30), but still the sample size is small.   The observations are independent since they come from different people."
   ]
  },
  {
   "cell_type": "markdown",
   "metadata": {},
   "source": [
    "## 3. Is the true population mean really 98.6 degrees F?\n",
    "\n",
    "    * Would you use a one-sample or two-sample test? Why? \n",
    "    * In this situation, is it appropriate to use the t or z statistic? \n",
    "    * Now try using the other test. How is the result be different? Why?"
   ]
  },
  {
   "cell_type": "code",
   "execution_count": 12,
   "metadata": {},
   "outputs": [
    {
     "data": {
      "text/plain": [
       "98.24923076923078"
      ]
     },
     "execution_count": 12,
     "metadata": {},
     "output_type": "execute_result"
    }
   ],
   "source": [
    "# mean temperature of all samples\n",
    "temperature_mean = df.temperature.sum() / n\n",
    "temperature_mean"
   ]
  },
  {
   "cell_type": "markdown",
   "metadata": {},
   "source": [
    "Since the sample mean is less than 98.6, use a one-sample test because the hypothesis of interest can be expressed as:\n",
    "H0: mu=98.6\n",
    "Ha: mu<98.6\n",
    "\n",
    "In this situation, it is appropriate to use the z statistic because there are  130 observations, which is bigger than 30 thus making a t statistic behave like a z statistic."
   ]
  },
  {
   "cell_type": "code",
   "execution_count": 13,
   "metadata": {
    "collapsed": true
   },
   "outputs": [],
   "source": [
    "# Sample mean\n",
    "mu = temperature_mean"
   ]
  },
  {
   "cell_type": "code",
   "execution_count": 14,
   "metadata": {
    "collapsed": true
   },
   "outputs": [],
   "source": [
    "# Sample variance\n",
    "df1 = (df.temperature-mu)*(df.temperature-mu)\n",
    "S2 = df1.sum() / (n-1)"
   ]
  },
  {
   "cell_type": "code",
   "execution_count": 15,
   "metadata": {
    "collapsed": true
   },
   "outputs": [],
   "source": [
    "# Sample standard deviation\n",
    "S = math.sqrt(S2)"
   ]
  },
  {
   "cell_type": "code",
   "execution_count": 16,
   "metadata": {},
   "outputs": [
    {
     "name": "stdout",
     "output_type": "stream",
     "text": [
      "0.06430441683789101\n"
     ]
    }
   ],
   "source": [
    "# One standard deviation\n",
    "stdev = S / math.sqrt(n)\n",
    "print(stdev)"
   ]
  },
  {
   "cell_type": "code",
   "execution_count": 17,
   "metadata": {},
   "outputs": [
    {
     "data": {
      "text/plain": [
       "(98.12319411222852, 98.37526742623304)"
      ]
     },
     "execution_count": 17,
     "metadata": {},
     "output_type": "execute_result"
    }
   ],
   "source": [
    "# look up in Z table for 95% confidence interval, we get \n",
    "z=1.96\n",
    "mu_min = mu - z * stdev\n",
    "mu_max = mu + z * stdev\n",
    "mu_min, mu_max"
   ]
  },
  {
   "cell_type": "code",
   "execution_count": 18,
   "metadata": {},
   "outputs": [
    {
     "data": {
      "text/plain": [
       "(98.08332537378902, 98.41513616467253)"
      ]
     },
     "execution_count": 18,
     "metadata": {},
     "output_type": "execute_result"
    }
   ],
   "source": [
    "# look up in Z table for 99% conficence interval, we get \n",
    "z=2.58\n",
    "mu_min = mu - z * stdev\n",
    "mu_max = mu + z * stdev\n",
    "mu_min, mu_max"
   ]
  },
  {
   "cell_type": "markdown",
   "metadata": {},
   "source": [
    "The true population mean isn't 98.6 degrees F because both confidence intervals exclude the value 98.6 degrees F.  The 95% confidence interval is (98.123, 98.375), the 99% confidence interval is (98.083, 98.415).\n",
    "\n",
    "Now try using the t test:"
   ]
  },
  {
   "cell_type": "code",
   "execution_count": 19,
   "metadata": {},
   "outputs": [
    {
     "data": {
      "text/plain": [
       "(98.14267835053039, 98.35578318793117)"
      ]
     },
     "execution_count": 19,
     "metadata": {},
     "output_type": "execute_result"
    }
   ],
   "source": [
    "# look up in T table for 95% confidence interval, we get \n",
    "t=1.657\n",
    "mu_min = mu - t * stdev\n",
    "mu_max = mu + t * stdev\n",
    "mu_min, mu_max"
   ]
  },
  {
   "cell_type": "code",
   "execution_count": 20,
   "metadata": {},
   "outputs": [
    {
     "data": {
      "text/plain": [
       "(98.09772956316071, 98.40073197530084)"
      ]
     },
     "execution_count": 20,
     "metadata": {},
     "output_type": "execute_result"
    }
   ],
   "source": [
    "# look up in T table for 99% confidence interval, we get \n",
    "t=2.356\n",
    "mu_min = mu - t * stdev\n",
    "mu_max = mu + t * stdev\n",
    "mu_min, mu_max"
   ]
  },
  {
   "cell_type": "markdown",
   "metadata": {},
   "source": [
    "The true population mean isn't 98.6 degrees F because both confidence intervals exclude the value 98.6 degrees F. The 95% confidence interval is (98.143, 98.355), the 99% confidence interval is (98.097, 98.400). The result of t test has smaller range, because t test is for small sample size. "
   ]
  },
  {
   "cell_type": "markdown",
   "metadata": {},
   "source": [
    "## 4. Draw a small sample of size 10 from the data and repeat both tests. \n",
    "Which one is the correct one to use? \n",
    "What do you notice? What does this tell you about the difference in application of the t and z statistic?"
   ]
  },
  {
   "cell_type": "code",
   "execution_count": 32,
   "metadata": {},
   "outputs": [
    {
     "name": "stdout",
     "output_type": "stream",
     "text": [
      "[ 98.4  97.6  98.8  97.6  98.7  98.3  99.   98.6  98.6  97.8]\n"
     ]
    }
   ],
   "source": [
    "# draw sample of size 10 from data:\n",
    "np.random.seed(0)\n",
    "sample10 = np.random.choice(df.temperature,size=10,replace=False)\n",
    "print(sample10)"
   ]
  },
  {
   "cell_type": "code",
   "execution_count": 33,
   "metadata": {},
   "outputs": [
    {
     "name": "stdout",
     "output_type": "stream",
     "text": [
      "98.34\n"
     ]
    }
   ],
   "source": [
    "#sample mean\n",
    "mu10 = sample10.sum()/10\n",
    "print(mu10)"
   ]
  },
  {
   "cell_type": "code",
   "execution_count": 34,
   "metadata": {},
   "outputs": [
    {
     "name": "stdout",
     "output_type": "stream",
     "text": [
      "0.1600000000000005\n"
     ]
    }
   ],
   "source": [
    "#sample standard deviation\n",
    "df10 = (sample10-mu10)*(sample10-mu10)\n",
    "S20 = df10.sum() / (10-1)\n",
    "S10 = math.sqrt(S20)\n",
    "stdev10 = S10 / math.sqrt(10)\n",
    "print(stdev10)"
   ]
  },
  {
   "cell_type": "markdown",
   "metadata": {},
   "source": [
    "The correct test statistic to use it the t statistic because the sample size is small ( 10 < 30)."
   ]
  },
  {
   "cell_type": "code",
   "execution_count": 35,
   "metadata": {},
   "outputs": [
    {
     "data": {
      "text/plain": [
       "(98.026399999999995, 98.653600000000012)"
      ]
     },
     "execution_count": 35,
     "metadata": {},
     "output_type": "execute_result"
    }
   ],
   "source": [
    "# look up in Z table for 95% confidence interval, we get \n",
    "z=1.96\n",
    "mu10_min = mu10 - z * stdev10\n",
    "mu10_max = mu10 + z * stdev10\n",
    "mu10_min, mu10_max"
   ]
  },
  {
   "cell_type": "code",
   "execution_count": 29,
   "metadata": {},
   "outputs": [
    {
     "data": {
      "text/plain": [
       "(97.926249481100015, 98.653750518899969)"
      ]
     },
     "execution_count": 29,
     "metadata": {},
     "output_type": "execute_result"
    }
   ],
   "source": [
    "# look up in Z table for 99% conficence interval, we get \n",
    "z=2.58\n",
    "mu10_min = mu10 - z * stdev10\n",
    "mu10_max = mu10 + z * stdev10\n",
    "mu10_min, mu10_max"
   ]
  },
  {
   "cell_type": "code",
   "execution_count": 30,
   "metadata": {},
   "outputs": [
    {
     "data": {
      "text/plain": [
       "(98.056381934179356, 98.523618065820628)"
      ]
     },
     "execution_count": 30,
     "metadata": {},
     "output_type": "execute_result"
    }
   ],
   "source": [
    "# look up in T table for 95% confidence interval, we get \n",
    "t=1.657\n",
    "mu10_min = mu10 - t * stdev10\n",
    "mu10_max = mu10 + t * stdev10\n",
    "mu10_min, mu10_max"
   ]
  },
  {
   "cell_type": "code",
   "execution_count": 36,
   "metadata": {},
   "outputs": [
    {
     "data": {
      "text/plain": [
       "(97.963040000000007, 98.71696)"
      ]
     },
     "execution_count": 36,
     "metadata": {},
     "output_type": "execute_result"
    }
   ],
   "source": [
    "# look up in T table for 99% confidence interval, we get \n",
    "t=2.356\n",
    "mu10_min = mu10 - t * stdev10\n",
    "mu10_max = mu10 + t * stdev10\n",
    "mu10_min, mu10_max"
   ]
  },
  {
   "cell_type": "markdown",
   "metadata": {},
   "source": [
    "Notice that the 95% confidence interval for the t statixtic is contained inside the 95% confidence interval for the z statistic.  The 95% confidence interval for the t statistic would reject the NULL that mean human body temperature is 98.6 degrees F.  All other confidence intervals for t and z statistics can not reject the NULL that mean human body temperature is 98.6 degrees F since they all contain 98.6.  The t statistic may be more appropriate because the sample size is small."
   ]
  },
  {
   "cell_type": "markdown",
   "metadata": {},
   "source": [
    "## 5. At what temperature should we consider someone's temperature to be \"abnormal\"?\n",
    "\n",
    "Using the z statistic with the entire sample of size 130, the 99% confidence interval has the true mean body temperature is between 98.08 to 98.42 degrees F. If someone's temperature is higher than 98.42 degrees F or below 98.08 degrees F, we should consider it to be \"abnormal\"."
   ]
  },
  {
   "cell_type": "markdown",
   "metadata": {},
   "source": [
    "## 6. Is there a significant difference between males and females in normal temperature? \n",
    "\n",
    "What test did you use and why? \n",
    "Write a story with your conclusion in the context of the original problem. "
   ]
  },
  {
   "cell_type": "code",
   "execution_count": 37,
   "metadata": {},
   "outputs": [
    {
     "data": {
      "image/png": "[encoded data removed]",
      "text/plain": [
       "<matplotlib.figure.Figure at 0x2510678c710>"
      ]
     },
     "metadata": {},
     "output_type": "display_data"
    }
   ],
   "source": [
    "# Boxplot of body temperature, male and female\n",
    "sns.boxplot(df.temperature, df.gender, order=[\"M\", \"F\"], palette=\"Set2\", saturation=1)\n",
    "plt.ylabel('Gender')\n",
    "plt.xlabel('Body temperature')\n",
    "plt.title('Body temperature by Gender')\n",
    "plt.show()"
   ]
  },
  {
   "cell_type": "code",
   "execution_count": 38,
   "metadata": {
    "collapsed": true
   },
   "outputs": [],
   "source": [
    "# Sample mean temperatures for males and females\n",
    "mu_m = df[df.gender=='M'].temperature.sum() / len(df[df.gender=='M'])\n",
    "mu_f = df[df.gender=='F'].temperature.sum() / len(df[df.gender=='F'])"
   ]
  },
  {
   "cell_type": "code",
   "execution_count": 39,
   "metadata": {
    "collapsed": true
   },
   "outputs": [],
   "source": [
    "# Sample sizes of males and females\n",
    "nm = len(df[df.gender=='M'])\n",
    "\n",
    "nf = len(df[df.gender=='F'])"
   ]
  },
  {
   "cell_type": "code",
   "execution_count": 40,
   "metadata": {
    "collapsed": true
   },
   "outputs": [],
   "source": [
    "# Sample variance for twao sample test for males and females\n",
    "dfm = (df[df.gender==\"M\"].temperature-mu_m)*(df[df.gender==\"M\"].temperature-mu_m)\n",
    "SS_m = dfm.sum()\n",
    "dff = (df[df.gender==\"F\"].temperature-mu_f)*(df[df.gender==\"F\"].temperature-mu_f)\n",
    "SS_f = dff.sum()\n",
    "Sp2 = (SS_m + SS_f) / (nm - 1 + nf - 1)"
   ]
  },
  {
   "cell_type": "code",
   "execution_count": 41,
   "metadata": {
    "collapsed": true
   },
   "outputs": [],
   "source": [
    "# Standard deviation of the sample distribution of sample mean differences\n",
    "stdev2 = math.sqrt(Sp2/nm + Sp2/nf)\n"
   ]
  },
  {
   "cell_type": "code",
   "execution_count": 42,
   "metadata": {},
   "outputs": [
    {
     "name": "stdout",
     "output_type": "stream",
     "text": [
      "128\n"
     ]
    }
   ],
   "source": [
    "# degrees of freedom for the two sample t test:\n",
    "df2 = nm-1 + nf-1\n",
    "print(df2)"
   ]
  },
  {
   "cell_type": "code",
   "execution_count": 43,
   "metadata": {},
   "outputs": [
    {
     "name": "stdout",
     "output_type": "stream",
     "text": [
      "0.289230769230727\n"
     ]
    },
    {
     "data": {
      "text/plain": [
       "(0.006382690042414929, 0.5720788484190391)"
      ]
     },
     "execution_count": 43,
     "metadata": {},
     "output_type": "execute_result"
    }
   ],
   "source": [
    "# Check two-tailed T table with 128 for 99% confidence interval, we get \n",
    "t=2.235\n",
    "mud = mu_f - mu_m\n",
    "print(mud)\n",
    "mud_min = mud - t * stdev2\n",
    "mud_max = mud + t * stdev2\n",
    "mud_min, mud_max"
   ]
  },
  {
   "cell_type": "markdown",
   "metadata": {},
   "source": [
    "From the t test result, we have 99% confidence that body temperature difference of females and males is between 0.006 and 0.572 degrees F. Since 0 is not contained in the interval, there is a  significant difference between males and females in normal temperature.\n",
    "\n",
    "The mean normal body temperature was held to be 37 ∘ C or 98.6 ∘ F for more than 120 years since it was first conceptualized and reported by Carl Wunderlich in a famous 1868 book. But, this value is not statistically correct due to the z statistic test above. From the test result, the 99% confidence interval for mean body temperature is between 98.08 to 98.42 degrees F. So if someone's temperature is higher than 98.42 degrees F or below 98.08 degrees F, then that should be considered \"abnormal\". There is a significant difference between males and females in normal temperature."
   ]
  },
  {
   "cell_type": "code",
   "execution_count": null,
   "metadata": {
    "collapsed": true
   },
   "outputs": [],
   "source": []
  }
 ],
 "metadata": {
  "kernelspec": {
   "display_name": "Python 3",
   "language": "python",
   "name": "python3"
  },
  "language_info": {
   "codemirror_mode": {
    "name": "ipython",
    "version": 3
   },
   "file_extension": ".py",
   "mimetype": "text/x-python",
   "name": "python",
   "nbconvert_exporter": "python",
   "pygments_lexer": "ipython3",
   "version": "3.6.3"
  }
 },
 "nbformat": 4,
 "nbformat_minor": 2
}
